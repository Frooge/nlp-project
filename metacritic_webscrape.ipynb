{
 "cells": [
  {
   "cell_type": "code",
   "execution_count": 21,
   "metadata": {},
   "outputs": [],
   "source": [
    "from bs4 import BeautifulSoup\n",
    "import pandas as pd\n",
    "from selenium import webdriver\n",
    "import time\n"
   ]
  },
  {
   "cell_type": "code",
   "execution_count": 43,
   "metadata": {},
   "outputs": [],
   "source": [
    "# Initialize WebDriver\n",
    "def getSoup(url):\n",
    "    driver = webdriver.Chrome() \n",
    "\n",
    "    driver.get(url)\n",
    "    scroll_pause_time = 1  # Pause between each scroll\n",
    "    screen_height = driver.execute_script(\"return window.screen.height;\")  # Browser window height\n",
    "    i = 2\n",
    "    while True:\n",
    "        # Scroll down\n",
    "        driver.execute_script(f\"window.scrollTo(0, {screen_height * i});\")\n",
    "        i += 2\n",
    "        time.sleep(scroll_pause_time)\n",
    "\n",
    "        # Check if reaching the end of the page\n",
    "        scroll_height = driver.execute_script(\"return document.body.scrollHeight;\")\n",
    "        if screen_height * i > scroll_height:\n",
    "            break\n",
    "\n",
    "    # Fetch the data using BeautifulSoup after all data is loaded\n",
    "    soup = BeautifulSoup(driver.page_source, \"html.parser\")\n",
    "    return soup\n",
    "\n",
    "def getReview(url):\n",
    "    soup = getSoup(url)\n",
    "    review_dict = {'name':[], 'date':[], 'rating':[], 'review':[]}\n",
    "    for review in soup.find_all('div', class_='c-siteReview'):\n",
    "        if review.find('a', class_='c-siteReviewHeader_username') and review.find('div', class_='c-siteReviewHeader_reviewDate') and review.find('div', class_='c-siteReviewScore').find('span') and review.find('div', class_='c-siteReview_quote'):\n",
    "            review_dict['name'].append(review.find('a', class_='c-siteReviewHeader_username').text)\n",
    "            review_dict['date'].append(review.find('div', class_='c-siteReviewHeader_reviewDate').text)\n",
    "            review_dict['rating'].append(review.find('div', class_='c-siteReviewScore').find('span').text)\n",
    "            review_dict['review'].append(review.find('div', class_='c-siteReview_quote').find('span').text)\n",
    "    return review_dict"
   ]
  },
  {
   "cell_type": "code",
   "execution_count": 88,
   "metadata": {},
   "outputs": [],
   "source": [
    "pageURL = ['https://www.metacritic.com/game/fire-emblem-engage/user-reviews/', 'https://www.metacritic.com/game/fire-emblem-three-houses/user-reviews/', 'https://www.metacritic.com/game/fire-emblem-echoes-shadows-of-valentia/user-reviews/']\n"
   ]
  },
  {
   "cell_type": "code",
   "execution_count": null,
   "metadata": {},
   "outputs": [],
   "source": [
    "engage_df = pd.DataFrame(getReview(pageURL[0]))\n",
    "engage_df.to_csv('dataset/enagage.csv')"
   ]
  },
  {
   "cell_type": "code",
   "execution_count": 73,
   "metadata": {},
   "outputs": [],
   "source": [
    "threehouses_df = pd.DataFrame(getReview(pageURL[1]))\n",
    "threehouses_df.to_csv('dataset/threehouses.csv')"
   ]
  },
  {
   "cell_type": "code",
   "execution_count": 86,
   "metadata": {},
   "outputs": [],
   "source": [
    "echoes_df = pd.DataFrame(pageURL[2])\n",
    "echoes_df.to_csv('dataset/echoes.csv')"
   ]
  }
 ],
 "metadata": {
  "kernelspec": {
   "display_name": "Python 3",
   "language": "python",
   "name": "python3"
  },
  "language_info": {
   "codemirror_mode": {
    "name": "ipython",
    "version": 3
   },
   "file_extension": ".py",
   "mimetype": "text/x-python",
   "name": "python",
   "nbconvert_exporter": "python",
   "pygments_lexer": "ipython3",
   "version": "3.11.1"
  }
 },
 "nbformat": 4,
 "nbformat_minor": 2
}
