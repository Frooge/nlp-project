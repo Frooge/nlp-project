{
 "cells": [
  {
   "cell_type": "code",
   "execution_count": 1,
   "metadata": {},
   "outputs": [],
   "source": [
    "from bs4 import BeautifulSoup\n",
    "import pandas as pd\n",
    "from selenium import webdriver\n",
    "import time\n"
   ]
  },
  {
   "cell_type": "code",
   "execution_count": 3,
   "metadata": {},
   "outputs": [],
   "source": [
    "# Initialize WebDriver\n",
    "def getSoup(url):\n",
    "    driver = webdriver.Chrome() \n",
    "\n",
    "    driver.get(url)\n",
    "    scroll_pause_time = 1  # Pause between each scroll\n",
    "    screen_height = driver.execute_script(\"return window.screen.height;\")  # Browser window height\n",
    "    i = 2\n",
    "    while True:\n",
    "        # Scroll down\n",
    "        driver.execute_script(f\"window.scrollTo(0, {screen_height * i});\")\n",
    "        i += 2\n",
    "        time.sleep(scroll_pause_time)\n",
    "\n",
    "        # Check if reaching the end of the page\n",
    "        scroll_height = driver.execute_script(\"return document.body.scrollHeight;\")\n",
    "        if screen_height * i > scroll_height:\n",
    "            break\n",
    "\n",
    "    # Fetch the data using BeautifulSoup after all data is loaded\n",
    "    soup = BeautifulSoup(driver.page_source, \"html.parser\")\n",
    "    return soup\n",
    "\n",
    "def getReview(url):\n",
    "    soup = getSoup(url)\n",
    "    review_dict = {'name':[], 'date':[], 'rating':[], 'review':[]}\n",
    "    for review in soup.find_all('div', class_='c-siteReview'):\n",
    "        if review.find('a', class_='c-siteReviewHeader_username') and review.find('div', class_='c-siteReviewHeader_reviewDate') and review.find('div', class_='c-siteReviewScore').find('span') and review.find('div', class_='c-siteReview_quote'):\n",
    "            review_dict['name'].append(review.find('a', class_='c-siteReviewHeader_username').text)\n",
    "            review_dict['date'].append(review.find('div', class_='c-siteReviewHeader_reviewDate').text)\n",
    "            review_dict['rating'].append(review.find('div', class_='c-siteReviewScore').find('span').text)\n",
    "            review_dict['review'].append(review.find('div', class_='c-siteReview_quote').find('span').text)\n",
    "    return review_dict"
   ]
  },
  {
   "cell_type": "code",
   "execution_count": 4,
   "metadata": {},
   "outputs": [],
   "source": [
    "# pokemon scarlet\n",
    "df = pd.DataFrame(getReview('https://www.metacritic.com/game/pokemon-scarlet/user-reviews/'))\n",
    "df.to_csv('dataset/scarlet.csv')"
   ]
  },
  {
   "cell_type": "code",
   "execution_count": 5,
   "metadata": {},
   "outputs": [],
   "source": [
    "#pokemon violet\n",
    "df = pd.DataFrame(getReview('https://www.metacritic.com/game/pokemon-violet/user-reviews/'))\n",
    "df.to_csv('dataset/violet.csv')"
   ]
  },
  {
   "cell_type": "code",
   "execution_count": 8,
   "metadata": {},
   "outputs": [],
   "source": [
    "#pokemon sword\n",
    "df = pd.DataFrame(getReview('https://www.metacritic.com/game/pokemon-sword/user-reviews/'))\n",
    "df.to_csv('dataset/sword.csv')"
   ]
  },
  {
   "cell_type": "code",
   "execution_count": 7,
   "metadata": {},
   "outputs": [],
   "source": [
    "#pokemon shield\n",
    "df = pd.DataFrame(getReview('https://www.metacritic.com/game/pokemon-shield/user-reviews/'))\n",
    "df.to_csv('dataset/shield.csv')"
   ]
  },
  {
   "cell_type": "code",
   "execution_count": 20,
   "metadata": {},
   "outputs": [],
   "source": [
    "#pokemon sun\n",
    "df = pd.DataFrame(getReview('https://www.metacritic.com/game/pokemon-sun/user-reviews/'))\n",
    "df.to_csv('dataset/sun.csv')"
   ]
  },
  {
   "cell_type": "code",
   "execution_count": 10,
   "metadata": {},
   "outputs": [],
   "source": [
    "#pokemon moon\n",
    "df = pd.DataFrame(getReview('https://www.metacritic.com/game/pokemon-moon/user-reviews/'))\n",
    "df.to_csv('dataset/moon.csv')"
   ]
  },
  {
   "cell_type": "code",
   "execution_count": 11,
   "metadata": {},
   "outputs": [],
   "source": [
    "#pokemon x\n",
    "df = pd.DataFrame(getReview('https://www.metacritic.com/game/pokemon-x/user-reviews/'))\n",
    "df.to_csv('dataset/x.csv')"
   ]
  },
  {
   "cell_type": "code",
   "execution_count": 12,
   "metadata": {},
   "outputs": [],
   "source": [
    "#pokemon y\n",
    "df = pd.DataFrame(getReview('https://www.metacritic.com/game/pokemon-y/user-reviews/'))\n",
    "df.to_csv('dataset/y.csv')"
   ]
  },
  {
   "cell_type": "code",
   "execution_count": 13,
   "metadata": {},
   "outputs": [],
   "source": [
    "#pokemon black\n",
    "df = pd.DataFrame(getReview('https://www.metacritic.com/game/pokemon-black-version/user-reviews/'))\n",
    "df.to_csv('dataset/black.csv')"
   ]
  },
  {
   "cell_type": "code",
   "execution_count": 14,
   "metadata": {},
   "outputs": [],
   "source": [
    "#pokemon white\n",
    "df = pd.DataFrame(getReview('https://www.metacritic.com/game/pokemon-white-version/user-reviews/'))\n",
    "df.to_csv('dataset/white.csv')"
   ]
  },
  {
   "cell_type": "code",
   "execution_count": 15,
   "metadata": {},
   "outputs": [],
   "source": [
    "#pokemon black 2\n",
    "df = pd.DataFrame(getReview('https://www.metacritic.com/game/pokemon-black-version-2/user-reviews/'))\n",
    "df.to_csv('dataset/black2.csv')"
   ]
  },
  {
   "cell_type": "code",
   "execution_count": 16,
   "metadata": {},
   "outputs": [],
   "source": [
    "#pokemon white 2\n",
    "df = pd.DataFrame(getReview('https://www.metacritic.com/game/pokemon-white-version-2/user-reviews/'))\n",
    "df.to_csv('dataset/white2.csv')"
   ]
  },
  {
   "cell_type": "code",
   "execution_count": 18,
   "metadata": {},
   "outputs": [],
   "source": [
    "#pokemon platinum\n",
    "df = pd.DataFrame(getReview('https://www.metacritic.com/game/pokemon-platinum-version/user-reviews/'))\n",
    "df.to_csv('dataset/platinum.csv')"
   ]
  },
  {
   "cell_type": "code",
   "execution_count": 19,
   "metadata": {},
   "outputs": [],
   "source": [
    "#pokemon emerald\n",
    "df = pd.DataFrame(getReview('https://www.metacritic.com/game/pokemon-emerald-version/user-reviews/'))\n",
    "df.to_csv('dataset/emerald.csv')"
   ]
  }
 ],
 "metadata": {
  "kernelspec": {
   "display_name": "Python 3",
   "language": "python",
   "name": "python3"
  },
  "language_info": {
   "codemirror_mode": {
    "name": "ipython",
    "version": 3
   },
   "file_extension": ".py",
   "mimetype": "text/x-python",
   "name": "python",
   "nbconvert_exporter": "python",
   "pygments_lexer": "ipython3",
   "version": "3.11.1"
  }
 },
 "nbformat": 4,
 "nbformat_minor": 2
}
